{
 "cells": [
  {
   "cell_type": "code",
   "execution_count": 1,
   "id": "950c6370",
   "metadata": {},
   "outputs": [],
   "source": [
    "x = 10 \n",
    "y = 12"
   ]
  },
  {
   "cell_type": "code",
   "execution_count": 2,
   "id": "04640831",
   "metadata": {},
   "outputs": [
    {
     "data": {
      "text/plain": [
       "False"
      ]
     },
     "execution_count": 2,
     "metadata": {},
     "output_type": "execute_result"
    }
   ],
   "source": [
    "x is y "
   ]
  },
  {
   "cell_type": "code",
   "execution_count": 3,
   "id": "d4efddb4",
   "metadata": {},
   "outputs": [
    {
     "data": {
      "text/plain": [
       "True"
      ]
     },
     "execution_count": 3,
     "metadata": {},
     "output_type": "execute_result"
    }
   ],
   "source": [
    "x is x"
   ]
  },
  {
   "cell_type": "code",
   "execution_count": 4,
   "id": "bc109069",
   "metadata": {},
   "outputs": [
    {
     "data": {
      "text/plain": [
       "True"
      ]
     },
     "execution_count": 4,
     "metadata": {},
     "output_type": "execute_result"
    }
   ],
   "source": [
    "x is not y"
   ]
  },
  {
   "cell_type": "code",
   "execution_count": 5,
   "id": "0b0eadb0",
   "metadata": {},
   "outputs": [],
   "source": [
    "x =[1,2,]\n",
    "y = [1,2]"
   ]
  },
  {
   "cell_type": "code",
   "execution_count": 6,
   "id": "f78f9cd9",
   "metadata": {},
   "outputs": [
    {
     "data": {
      "text/plain": [
       "False"
      ]
     },
     "execution_count": 6,
     "metadata": {},
     "output_type": "execute_result"
    }
   ],
   "source": [
    "x is y "
   ]
  },
  {
   "cell_type": "code",
   "execution_count": 7,
   "id": "5846e2cb",
   "metadata": {},
   "outputs": [
    {
     "data": {
      "text/plain": [
       "1984789758144"
      ]
     },
     "execution_count": 7,
     "metadata": {},
     "output_type": "execute_result"
    }
   ],
   "source": [
    "id(x)"
   ]
  },
  {
   "cell_type": "code",
   "execution_count": 8,
   "id": "e0dc41f8",
   "metadata": {},
   "outputs": [
    {
     "data": {
      "text/plain": [
       "1984789812480"
      ]
     },
     "execution_count": 8,
     "metadata": {},
     "output_type": "execute_result"
    }
   ],
   "source": [
    "id(y)"
   ]
  },
  {
   "cell_type": "markdown",
   "id": "3a9677f2",
   "metadata": {},
   "source": [
    "ID is used for finding UNIQUE number of Variables\n"
   ]
  },
  {
   "cell_type": "code",
   "execution_count": 1,
   "id": "a09e923a",
   "metadata": {},
   "outputs": [],
   "source": [
    "x2 = 278\n",
    "x3 = 278\n"
   ]
  },
  {
   "cell_type": "code",
   "execution_count": 2,
   "id": "f3e36bda",
   "metadata": {},
   "outputs": [],
   "source": [
    "x2 = x3"
   ]
  },
  {
   "cell_type": "code",
   "execution_count": 3,
   "id": "c3a81f61",
   "metadata": {},
   "outputs": [],
   "source": [
    "x2 =x2"
   ]
  },
  {
   "cell_type": "code",
   "execution_count": 4,
   "id": "4eb4aeee",
   "metadata": {},
   "outputs": [
    {
     "data": {
      "text/plain": [
       "1990572142864"
      ]
     },
     "execution_count": 4,
     "metadata": {},
     "output_type": "execute_result"
    }
   ],
   "source": [
    "id(x2)"
   ]
  },
  {
   "cell_type": "code",
   "execution_count": 5,
   "id": "051e976b",
   "metadata": {},
   "outputs": [
    {
     "data": {
      "text/plain": [
       "1990572142864"
      ]
     },
     "execution_count": 5,
     "metadata": {},
     "output_type": "execute_result"
    }
   ],
   "source": [
    "id(x3)"
   ]
  },
  {
   "cell_type": "code",
   "execution_count": 2,
   "id": "91e755a1",
   "metadata": {},
   "outputs": [],
   "source": [
    "x4 = 10\n",
    "x5 = -5"
   ]
  },
  {
   "cell_type": "code",
   "execution_count": 3,
   "id": "56c1b451",
   "metadata": {},
   "outputs": [
    {
     "data": {
      "text/plain": [
       "False"
      ]
     },
     "execution_count": 3,
     "metadata": {},
     "output_type": "execute_result"
    }
   ],
   "source": [
    "x4 is x5"
   ]
  },
  {
   "cell_type": "code",
   "execution_count": 4,
   "id": "7ea407a5",
   "metadata": {},
   "outputs": [],
   "source": [
    "x6 = -5\n",
    "x7 = 257"
   ]
  },
  {
   "cell_type": "code",
   "execution_count": 5,
   "id": "146b181c",
   "metadata": {},
   "outputs": [
    {
     "data": {
      "text/plain": [
       "False"
      ]
     },
     "execution_count": 5,
     "metadata": {},
     "output_type": "execute_result"
    }
   ],
   "source": [
    "x6 is x7"
   ]
  },
  {
   "cell_type": "code",
   "execution_count": 6,
   "id": "86cdd442",
   "metadata": {},
   "outputs": [],
   "source": [
    "x8 = -257\n",
    "x9 = 257"
   ]
  },
  {
   "cell_type": "code",
   "execution_count": 7,
   "id": "2b758af1",
   "metadata": {},
   "outputs": [
    {
     "data": {
      "text/plain": [
       "False"
      ]
     },
     "execution_count": 7,
     "metadata": {},
     "output_type": "execute_result"
    }
   ],
   "source": [
    "x8 is x9"
   ]
  },
  {
   "cell_type": "code",
   "execution_count": 8,
   "id": "a121cf73",
   "metadata": {},
   "outputs": [
    {
     "data": {
      "text/plain": [
       "2566874583952"
      ]
     },
     "execution_count": 8,
     "metadata": {},
     "output_type": "execute_result"
    }
   ],
   "source": [
    "id(x8)"
   ]
  },
  {
   "cell_type": "code",
   "execution_count": 9,
   "id": "4e670cda",
   "metadata": {},
   "outputs": [
    {
     "data": {
      "text/plain": [
       "2566874584304"
      ]
     },
     "execution_count": 9,
     "metadata": {},
     "output_type": "execute_result"
    }
   ],
   "source": [
    "id(x9)"
   ]
  },
  {
   "cell_type": "markdown",
   "id": "7fa8160a",
   "metadata": {},
   "source": [
    "In operator to test if values is in sequence or not ( list,tuple,string)"
   ]
  },
  {
   "cell_type": "code",
   "execution_count": 10,
   "id": "1448fb18",
   "metadata": {},
   "outputs": [],
   "source": [
    "fruit ='Apple'"
   ]
  },
  {
   "cell_type": "code",
   "execution_count": 11,
   "id": "4d7c4c97",
   "metadata": {},
   "outputs": [
    {
     "data": {
      "text/plain": [
       "True"
      ]
     },
     "execution_count": 11,
     "metadata": {},
     "output_type": "execute_result"
    }
   ],
   "source": [
    "'l' in fruit"
   ]
  },
  {
   "cell_type": "code",
   "execution_count": 17,
   "id": "cd20bc62",
   "metadata": {},
   "outputs": [],
   "source": [
    "L = ['aryan','sagar','prachi','Anand']"
   ]
  },
  {
   "cell_type": "code",
   "execution_count": 18,
   "id": "465cb23f",
   "metadata": {},
   "outputs": [
    {
     "data": {
      "text/plain": [
       "True"
      ]
     },
     "execution_count": 18,
     "metadata": {},
     "output_type": "execute_result"
    }
   ],
   "source": [
    "'prachi' in L"
   ]
  },
  {
   "cell_type": "code",
   "execution_count": 22,
   "id": "66af3e4c",
   "metadata": {},
   "outputs": [
    {
     "data": {
      "text/plain": [
       "False"
      ]
     },
     "execution_count": 22,
     "metadata": {},
     "output_type": "execute_result"
    }
   ],
   "source": [
    "'sagar' not in L"
   ]
  },
  {
   "cell_type": "code",
   "execution_count": 23,
   "id": "d4731f5c",
   "metadata": {},
   "outputs": [
    {
     "data": {
      "text/plain": [
       "True"
      ]
     },
     "execution_count": 23,
     "metadata": {},
     "output_type": "execute_result"
    }
   ],
   "source": [
    "'prachi' in L"
   ]
  },
  {
   "cell_type": "code",
   "execution_count": 24,
   "id": "0b559267",
   "metadata": {},
   "outputs": [
    {
     "data": {
      "text/plain": [
       "True"
      ]
     },
     "execution_count": 24,
     "metadata": {},
     "output_type": "execute_result"
    }
   ],
   "source": [
    "'vineet' not in L"
   ]
  },
  {
   "cell_type": "code",
   "execution_count": 28,
   "id": "92936bde",
   "metadata": {},
   "outputs": [
    {
     "name": "stdout",
     "output_type": "stream",
     "text": [
      "True\n"
     ]
    }
   ],
   "source": [
    "a = \"Avinash_Rai\"\n",
    "b = \"Avinash_Rai\"\n",
    "print(a is b) \n"
   ]
  },
  {
   "cell_type": "code",
   "execution_count": 29,
   "id": "a3d2beb5",
   "metadata": {},
   "outputs": [
    {
     "name": "stdout",
     "output_type": "stream",
     "text": [
      "False\n"
     ]
    }
   ],
   "source": [
    "a = \"Avinash Rai\"\n",
    "b = \"Avinash Rai\"\n",
    "print(a is b)"
   ]
  },
  {
   "cell_type": "markdown",
   "id": "9df5e193",
   "metadata": {},
   "source": [
    "# Bitwise - used to perform binary operations"
   ]
  },
  {
   "cell_type": "code",
   "execution_count": 25,
   "id": "161308c3",
   "metadata": {},
   "outputs": [
    {
     "data": {
      "text/plain": [
       "1"
      ]
     },
     "execution_count": 25,
     "metadata": {},
     "output_type": "execute_result"
    }
   ],
   "source": [
    "5&3 "
   ]
  },
  {
   "cell_type": "code",
   "execution_count": null,
   "id": "f7f12d04",
   "metadata": {},
   "outputs": [],
   "source": [
    "----> 101&11"
   ]
  },
  {
   "cell_type": "code",
   "execution_count": 26,
   "id": "3336905b",
   "metadata": {},
   "outputs": [
    {
     "data": {
      "text/plain": [
       "2"
      ]
     },
     "execution_count": 26,
     "metadata": {},
     "output_type": "execute_result"
    }
   ],
   "source": [
    "10&7"
   ]
  },
  {
   "cell_type": "code",
   "execution_count": 27,
   "id": "7e95d806",
   "metadata": {},
   "outputs": [
    {
     "data": {
      "text/plain": [
       "15"
      ]
     },
     "execution_count": 27,
     "metadata": {},
     "output_type": "execute_result"
    }
   ],
   "source": [
    "10|7"
   ]
  },
  {
   "cell_type": "code",
   "execution_count": 30,
   "id": "23d85d11",
   "metadata": {},
   "outputs": [
    {
     "data": {
      "text/plain": [
       "-11"
      ]
     },
     "execution_count": 30,
     "metadata": {},
     "output_type": "execute_result"
    }
   ],
   "source": [
    "~10"
   ]
  },
  {
   "cell_type": "code",
   "execution_count": 31,
   "id": "0ef19b93",
   "metadata": {},
   "outputs": [
    {
     "data": {
      "text/plain": [
       "-4"
      ]
     },
     "execution_count": 31,
     "metadata": {},
     "output_type": "execute_result"
    }
   ],
   "source": [
    "~3"
   ]
  },
  {
   "cell_type": "markdown",
   "id": "65727553",
   "metadata": {},
   "source": [
    "# Type Casting"
   ]
  },
  {
   "cell_type": "markdown",
   "id": "f2daaabf",
   "metadata": {},
   "source": [
    "Typecasting - refers to  convert one data type to another\n",
    "1) implicit - automatically converts the data type withou any external efforts\n",
    "\n",
    "2) explicit - manuall conversion (int(),float(),bool(),str(),list(),tuple(),set() )"
   ]
  },
  {
   "cell_type": "code",
   "execution_count": 32,
   "id": "78736393",
   "metadata": {},
   "outputs": [],
   "source": [
    "a = 10\n",
    "b = 5.5"
   ]
  },
  {
   "cell_type": "code",
   "execution_count": 33,
   "id": "754702cf",
   "metadata": {},
   "outputs": [
    {
     "data": {
      "text/plain": [
       "15.5"
      ]
     },
     "execution_count": 33,
     "metadata": {},
     "output_type": "execute_result"
    }
   ],
   "source": [
    "a+b"
   ]
  },
  {
   "cell_type": "code",
   "execution_count": 34,
   "id": "b1f4e8f2",
   "metadata": {},
   "outputs": [],
   "source": [
    "a = 10.5\n",
    "b = 11.5"
   ]
  },
  {
   "cell_type": "code",
   "execution_count": 35,
   "id": "f99b1670",
   "metadata": {},
   "outputs": [
    {
     "data": {
      "text/plain": [
       "22.0"
      ]
     },
     "execution_count": 35,
     "metadata": {},
     "output_type": "execute_result"
    }
   ],
   "source": [
    "a+b"
   ]
  },
  {
   "cell_type": "code",
   "execution_count": 36,
   "id": "4f4c2af6",
   "metadata": {},
   "outputs": [],
   "source": [
    "a = 10\n",
    "b  = 20.7"
   ]
  },
  {
   "cell_type": "code",
   "execution_count": 37,
   "id": "71fc89c9",
   "metadata": {},
   "outputs": [
    {
     "data": {
      "text/plain": [
       "30"
      ]
     },
     "execution_count": 37,
     "metadata": {},
     "output_type": "execute_result"
    }
   ],
   "source": [
    "a + int(b)"
   ]
  },
  {
   "cell_type": "code",
   "execution_count": 38,
   "id": "9c64fe2c",
   "metadata": {},
   "outputs": [
    {
     "data": {
      "text/plain": [
       "30.7"
      ]
     },
     "execution_count": 38,
     "metadata": {},
     "output_type": "execute_result"
    }
   ],
   "source": [
    "float(a)+b"
   ]
  },
  {
   "cell_type": "code",
   "execution_count": 39,
   "id": "0dd1af82",
   "metadata": {},
   "outputs": [
    {
     "data": {
      "text/plain": [
       "30.7"
      ]
     },
     "execution_count": 39,
     "metadata": {},
     "output_type": "execute_result"
    }
   ],
   "source": [
    "a+b"
   ]
  },
  {
   "cell_type": "code",
   "execution_count": 40,
   "id": "23465412",
   "metadata": {},
   "outputs": [],
   "source": [
    "x = 10 \n",
    "y = int(x)"
   ]
  },
  {
   "cell_type": "code",
   "execution_count": 41,
   "id": "ff762851",
   "metadata": {},
   "outputs": [
    {
     "data": {
      "text/plain": [
       "10"
      ]
     },
     "execution_count": 41,
     "metadata": {},
     "output_type": "execute_result"
    }
   ],
   "source": [
    "y"
   ]
  },
  {
   "cell_type": "code",
   "execution_count": 42,
   "id": "3180308f",
   "metadata": {},
   "outputs": [],
   "source": [
    "x= 100"
   ]
  },
  {
   "cell_type": "code",
   "execution_count": 43,
   "id": "2d4b8510",
   "metadata": {},
   "outputs": [
    {
     "data": {
      "text/plain": [
       "int"
      ]
     },
     "execution_count": 43,
     "metadata": {},
     "output_type": "execute_result"
    }
   ],
   "source": [
    "type(x)"
   ]
  },
  {
   "cell_type": "code",
   "execution_count": 44,
   "id": "c6c446d9",
   "metadata": {},
   "outputs": [],
   "source": [
    "y = str(x)"
   ]
  },
  {
   "cell_type": "code",
   "execution_count": 45,
   "id": "53daab61",
   "metadata": {},
   "outputs": [
    {
     "data": {
      "text/plain": [
       "str"
      ]
     },
     "execution_count": 45,
     "metadata": {},
     "output_type": "execute_result"
    }
   ],
   "source": [
    "type(y)"
   ]
  },
  {
   "cell_type": "code",
   "execution_count": 46,
   "id": "f693a220",
   "metadata": {},
   "outputs": [],
   "source": [
    "x='prachi'"
   ]
  },
  {
   "cell_type": "markdown",
   "id": "109c3da5",
   "metadata": {},
   "source": [
    "str cant be convert in to number"
   ]
  },
  {
   "cell_type": "code",
   "execution_count": 47,
   "id": "ba34e3bc",
   "metadata": {},
   "outputs": [],
   "source": [
    "x = '100'"
   ]
  },
  {
   "cell_type": "code",
   "execution_count": 48,
   "id": "8e8be17d",
   "metadata": {},
   "outputs": [
    {
     "data": {
      "text/plain": [
       "str"
      ]
     },
     "execution_count": 48,
     "metadata": {},
     "output_type": "execute_result"
    }
   ],
   "source": [
    "type(x)"
   ]
  },
  {
   "cell_type": "markdown",
   "id": "d6a10983",
   "metadata": {},
   "source": [
    "convert str into int"
   ]
  },
  {
   "cell_type": "code",
   "execution_count": 50,
   "id": "01a08a6d",
   "metadata": {},
   "outputs": [],
   "source": [
    "y= int(x)"
   ]
  },
  {
   "cell_type": "code",
   "execution_count": 51,
   "id": "6194237a",
   "metadata": {},
   "outputs": [
    {
     "data": {
      "text/plain": [
       "100"
      ]
     },
     "execution_count": 51,
     "metadata": {},
     "output_type": "execute_result"
    }
   ],
   "source": [
    "y"
   ]
  },
  {
   "cell_type": "code",
   "execution_count": 52,
   "id": "6e55a7f2",
   "metadata": {},
   "outputs": [
    {
     "data": {
      "text/plain": [
       "int"
      ]
     },
     "execution_count": 52,
     "metadata": {},
     "output_type": "execute_result"
    }
   ],
   "source": [
    "type(y)"
   ]
  },
  {
   "cell_type": "code",
   "execution_count": 53,
   "id": "5c489b97",
   "metadata": {},
   "outputs": [],
   "source": [
    "s = '3.14'"
   ]
  },
  {
   "cell_type": "code",
   "execution_count": 54,
   "id": "23e067fb",
   "metadata": {},
   "outputs": [],
   "source": [
    "t = float(s)"
   ]
  },
  {
   "cell_type": "code",
   "execution_count": 55,
   "id": "266bb07b",
   "metadata": {},
   "outputs": [
    {
     "data": {
      "text/plain": [
       "float"
      ]
     },
     "execution_count": 55,
     "metadata": {},
     "output_type": "execute_result"
    }
   ],
   "source": [
    "type(t)"
   ]
  },
  {
   "cell_type": "code",
   "execution_count": 56,
   "id": "299c08cf",
   "metadata": {},
   "outputs": [],
   "source": [
    "x = 0"
   ]
  },
  {
   "cell_type": "code",
   "execution_count": 57,
   "id": "cdf6c845",
   "metadata": {},
   "outputs": [
    {
     "data": {
      "text/plain": [
       "False"
      ]
     },
     "execution_count": 57,
     "metadata": {},
     "output_type": "execute_result"
    }
   ],
   "source": [
    "bool(0)"
   ]
  },
  {
   "cell_type": "code",
   "execution_count": 58,
   "id": "6bd41c18",
   "metadata": {},
   "outputs": [],
   "source": [
    "y =1"
   ]
  },
  {
   "cell_type": "code",
   "execution_count": 59,
   "id": "d28044f6",
   "metadata": {},
   "outputs": [
    {
     "data": {
      "text/plain": [
       "True"
      ]
     },
     "execution_count": 59,
     "metadata": {},
     "output_type": "execute_result"
    }
   ],
   "source": [
    "bool(y)"
   ]
  },
  {
   "cell_type": "code",
   "execution_count": 60,
   "id": "f2d28f1f",
   "metadata": {},
   "outputs": [],
   "source": [
    "z = 5"
   ]
  },
  {
   "cell_type": "code",
   "execution_count": 61,
   "id": "5ebce145",
   "metadata": {},
   "outputs": [
    {
     "data": {
      "text/plain": [
       "True"
      ]
     },
     "execution_count": 61,
     "metadata": {},
     "output_type": "execute_result"
    }
   ],
   "source": [
    "bool(z)"
   ]
  },
  {
   "cell_type": "code",
   "execution_count": 62,
   "id": "76fbfcdc",
   "metadata": {},
   "outputs": [],
   "source": [
    "n = -3"
   ]
  },
  {
   "cell_type": "code",
   "execution_count": 63,
   "id": "26e1bdef",
   "metadata": {},
   "outputs": [
    {
     "data": {
      "text/plain": [
       "True"
      ]
     },
     "execution_count": 63,
     "metadata": {},
     "output_type": "execute_result"
    }
   ],
   "source": [
    "bool(n)"
   ]
  },
  {
   "cell_type": "code",
   "execution_count": 64,
   "id": "9dad3783",
   "metadata": {},
   "outputs": [],
   "source": [
    "a = [1,2,3,4,5,6,7,2]"
   ]
  },
  {
   "cell_type": "code",
   "execution_count": 65,
   "id": "d7e6570b",
   "metadata": {},
   "outputs": [
    {
     "data": {
      "text/plain": [
       "list"
      ]
     },
     "execution_count": 65,
     "metadata": {},
     "output_type": "execute_result"
    }
   ],
   "source": [
    "type(a)"
   ]
  },
  {
   "cell_type": "code",
   "execution_count": 66,
   "id": "9567d738",
   "metadata": {},
   "outputs": [],
   "source": [
    "b= set(a)"
   ]
  },
  {
   "cell_type": "code",
   "execution_count": 67,
   "id": "a485ad01",
   "metadata": {},
   "outputs": [
    {
     "data": {
      "text/plain": [
       "{1, 2, 3, 4, 5, 6, 7}"
      ]
     },
     "execution_count": 67,
     "metadata": {},
     "output_type": "execute_result"
    }
   ],
   "source": [
    "b"
   ]
  },
  {
   "cell_type": "code",
   "execution_count": 68,
   "id": "e6ee4253",
   "metadata": {},
   "outputs": [
    {
     "data": {
      "text/plain": [
       "set"
      ]
     },
     "execution_count": 68,
     "metadata": {},
     "output_type": "execute_result"
    }
   ],
   "source": [
    "type(b)"
   ]
  },
  {
   "cell_type": "code",
   "execution_count": 73,
   "id": "a7502833",
   "metadata": {},
   "outputs": [],
   "source": [
    "age = '18'"
   ]
  },
  {
   "cell_type": "code",
   "execution_count": 74,
   "id": "059dba49",
   "metadata": {},
   "outputs": [
    {
     "name": "stdout",
     "output_type": "stream",
     "text": [
      "eligible for class\n"
     ]
    }
   ],
   "source": [
    "if int(age)>=18 :\n",
    "    print('eligible for class')"
   ]
  },
  {
   "cell_type": "code",
   "execution_count": 75,
   "id": "b14224f5",
   "metadata": {},
   "outputs": [
    {
     "name": "stdout",
     "output_type": "stream",
     "text": [
      "hello world\n"
     ]
    }
   ],
   "source": [
    "print('hello world')"
   ]
  },
  {
   "cell_type": "code",
   "execution_count": 76,
   "id": "2caa1312",
   "metadata": {},
   "outputs": [],
   "source": [
    "a = 10"
   ]
  },
  {
   "cell_type": "code",
   "execution_count": 77,
   "id": "a314e0be",
   "metadata": {},
   "outputs": [
    {
     "name": "stdout",
     "output_type": "stream",
     "text": [
      "number is : 10\n"
     ]
    }
   ],
   "source": [
    "print('number is :',a)"
   ]
  },
  {
   "cell_type": "code",
   "execution_count": 78,
   "id": "4c041991",
   "metadata": {},
   "outputs": [],
   "source": [
    "a = 10\n",
    "b = 7"
   ]
  },
  {
   "cell_type": "code",
   "execution_count": 79,
   "id": "e5f27289",
   "metadata": {},
   "outputs": [],
   "source": [
    "sum = a+b\n",
    "sub = a-b\n",
    "mul = a*b\n",
    "div = a/b"
   ]
  },
  {
   "cell_type": "code",
   "execution_count": 80,
   "id": "4fcca434",
   "metadata": {},
   "outputs": [
    {
     "name": "stdout",
     "output_type": "stream",
     "text": [
      "sum of  10 and 7 is 17\n"
     ]
    }
   ],
   "source": [
    "print('sum of ',a, 'and',b,'is',sum)"
   ]
  },
  {
   "cell_type": "code",
   "execution_count": 81,
   "id": "07e86cd4",
   "metadata": {},
   "outputs": [
    {
     "name": "stdout",
     "output_type": "stream",
     "text": [
      "a-b-c\n"
     ]
    }
   ],
   "source": [
    "print('a','b','c',sep = '-')"
   ]
  },
  {
   "cell_type": "code",
   "execution_count": 82,
   "id": "adad1911",
   "metadata": {},
   "outputs": [
    {
     "name": "stdout",
     "output_type": "stream",
     "text": [
      "hello world\n"
     ]
    }
   ],
   "source": [
    "print('hello',end = \" \")\n",
    "print('world')\n"
   ]
  },
  {
   "cell_type": "code",
   "execution_count": 83,
   "id": "81745f56",
   "metadata": {},
   "outputs": [
    {
     "name": "stdout",
     "output_type": "stream",
     "text": [
      "hello i am-vineet\n"
     ]
    }
   ],
   "source": [
    "print('hello',end = ' ')\n",
    "print('i am',end = '-')\n",
    "print('vineet')"
   ]
  },
  {
   "cell_type": "code",
   "execution_count": 84,
   "id": "734865e6",
   "metadata": {},
   "outputs": [],
   "source": [
    "name = 'vineet'\n",
    "age =  34 "
   ]
  },
  {
   "cell_type": "code",
   "execution_count": 85,
   "id": "77ad4d14",
   "metadata": {},
   "outputs": [
    {
     "name": "stdout",
     "output_type": "stream",
     "text": [
      "vineet 34\n"
     ]
    }
   ],
   "source": [
    "print(name,end = ' ')\n",
    "print(age)"
   ]
  },
  {
   "cell_type": "code",
   "execution_count": 86,
   "id": "a41aaa2d",
   "metadata": {},
   "outputs": [
    {
     "name": "stdout",
     "output_type": "stream",
     "text": [
      "name: vineet\n",
      "age: 34\n"
     ]
    }
   ],
   "source": [
    "print('name:',name)\n",
    "print('age:',age)"
   ]
  },
  {
   "cell_type": "code",
   "execution_count": 88,
   "id": "279b4a1c",
   "metadata": {},
   "outputs": [
    {
     "name": "stdout",
     "output_type": "stream",
     "text": [
      " name: vineet \n",
      " age 34\n"
     ]
    }
   ],
   "source": [
    "print(' name:',name,'\\n','age',age)"
   ]
  },
  {
   "cell_type": "code",
   "execution_count": 89,
   "id": "7920f7d2",
   "metadata": {},
   "outputs": [
    {
     "name": "stdout",
     "output_type": "stream",
     "text": [
      " name: vineet \t age 34\n"
     ]
    }
   ],
   "source": [
    "print(' name:',name,'\\t','age',age)"
   ]
  },
  {
   "cell_type": "code",
   "execution_count": 91,
   "id": "60768b72",
   "metadata": {},
   "outputs": [
    {
     "name": "stdout",
     "output_type": "stream",
     "text": [
      "she said: 'hi!'\n"
     ]
    }
   ],
   "source": [
    "print('she said: \\'hi!\\'')"
   ]
  },
  {
   "cell_type": "code",
   "execution_count": 94,
   "id": "9399fbe9",
   "metadata": {},
   "outputs": [
    {
     "name": "stdout",
     "output_type": "stream",
     "text": [
      "hello 'vineet'\n"
     ]
    }
   ],
   "source": [
    "print('hello \\'vineet\\'')"
   ]
  },
  {
   "cell_type": "code",
   "execution_count": 95,
   "id": "188a9c49",
   "metadata": {},
   "outputs": [
    {
     "data": {
      "text/plain": [
       "builtin_function_or_method"
      ]
     },
     "execution_count": 95,
     "metadata": {},
     "output_type": "execute_result"
    }
   ],
   "source": [
    "type(print)"
   ]
  },
  {
   "cell_type": "code",
   "execution_count": 96,
   "id": "9b0caa19",
   "metadata": {},
   "outputs": [
    {
     "name": "stdout",
     "output_type": "stream",
     "text": [
      "string concatenation also work\n"
     ]
    }
   ],
   "source": [
    "print('string concatenation','also','work')"
   ]
  },
  {
   "cell_type": "code",
   "execution_count": 97,
   "id": "89286823",
   "metadata": {},
   "outputs": [
    {
     "name": "stdout",
     "output_type": "stream",
     "text": [
      "3+5\n"
     ]
    }
   ],
   "source": [
    "print('3+5')"
   ]
  },
  {
   "cell_type": "code",
   "execution_count": 98,
   "id": "ad2ed403",
   "metadata": {},
   "outputs": [
    {
     "name": "stdout",
     "output_type": "stream",
     "text": [
      "8\n"
     ]
    }
   ],
   "source": [
    "print(3+5)"
   ]
  },
  {
   "cell_type": "code",
   "execution_count": 99,
   "id": "ee2a63ab",
   "metadata": {},
   "outputs": [
    {
     "name": "stdout",
     "output_type": "stream",
     "text": [
      "3+5= 8\n"
     ]
    }
   ],
   "source": [
    "print('3+5=',3+5)"
   ]
  },
  {
   "cell_type": "code",
   "execution_count": 102,
   "id": "28ece8a6",
   "metadata": {},
   "outputs": [
    {
     "name": "stdout",
     "output_type": "stream",
     "text": [
      "what is your name? vineet\n"
     ]
    }
   ],
   "source": [
    "name = input('what is your name? ')"
   ]
  },
  {
   "cell_type": "code",
   "execution_count": 103,
   "id": "2da7145f",
   "metadata": {},
   "outputs": [
    {
     "name": "stdout",
     "output_type": "stream",
     "text": [
      "Enter a number:10\n"
     ]
    }
   ],
   "source": [
    "number  =  input('Enter a number:')"
   ]
  },
  {
   "cell_type": "code",
   "execution_count": 104,
   "id": "871902a1",
   "metadata": {},
   "outputs": [
    {
     "data": {
      "text/plain": [
       "str"
      ]
     },
     "execution_count": 104,
     "metadata": {},
     "output_type": "execute_result"
    }
   ],
   "source": [
    "type(number)"
   ]
  },
  {
   "cell_type": "markdown",
   "id": "b26a4db9",
   "metadata": {},
   "source": [
    "convert it into INT"
   ]
  },
  {
   "cell_type": "code",
   "execution_count": 105,
   "id": "93df8ca2",
   "metadata": {},
   "outputs": [
    {
     "name": "stdout",
     "output_type": "stream",
     "text": [
      "Enter a number:20\n"
     ]
    }
   ],
   "source": [
    "number1  = int( input('Enter a number:'))"
   ]
  },
  {
   "cell_type": "code",
   "execution_count": 106,
   "id": "255b6ba2",
   "metadata": {},
   "outputs": [
    {
     "data": {
      "text/plain": [
       "int"
      ]
     },
     "execution_count": 106,
     "metadata": {},
     "output_type": "execute_result"
    }
   ],
   "source": [
    "type(number1)"
   ]
  },
  {
   "cell_type": "markdown",
   "id": "7e190dc4",
   "metadata": {},
   "source": [
    "convert it into FLOAT"
   ]
  },
  {
   "cell_type": "code",
   "execution_count": 107,
   "id": "019a82a7",
   "metadata": {},
   "outputs": [
    {
     "name": "stdout",
     "output_type": "stream",
     "text": [
      "Enter a number:20.5\n"
     ]
    }
   ],
   "source": [
    "number2  = float( input('Enter a number:'))"
   ]
  },
  {
   "cell_type": "code",
   "execution_count": 108,
   "id": "bbcb065c",
   "metadata": {},
   "outputs": [
    {
     "data": {
      "text/plain": [
       "float"
      ]
     },
     "execution_count": 108,
     "metadata": {},
     "output_type": "execute_result"
    }
   ],
   "source": [
    "type(number2)"
   ]
  },
  {
   "cell_type": "code",
   "execution_count": 109,
   "id": "4b2b344c",
   "metadata": {},
   "outputs": [
    {
     "data": {
      "text/plain": [
       "20.5"
      ]
     },
     "execution_count": 109,
     "metadata": {},
     "output_type": "execute_result"
    }
   ],
   "source": [
    "number2"
   ]
  },
  {
   "cell_type": "code",
   "execution_count": 111,
   "id": "2aadffc2",
   "metadata": {},
   "outputs": [
    {
     "name": "stdout",
     "output_type": "stream",
     "text": [
      "enter your list  1,2, 3,4\n"
     ]
    }
   ],
   "source": [
    "L = list(input('enter your list '))"
   ]
  },
  {
   "cell_type": "code",
   "execution_count": 112,
   "id": "3bf5aa5e",
   "metadata": {},
   "outputs": [
    {
     "data": {
      "text/plain": [
       "[' ', '1', ',', '2', ',', ' ', '3', ',', '4']"
      ]
     },
     "execution_count": 112,
     "metadata": {},
     "output_type": "execute_result"
    }
   ],
   "source": [
    "L"
   ]
  },
  {
   "cell_type": "code",
   "execution_count": null,
   "id": "bf031db2",
   "metadata": {},
   "outputs": [],
   "source": []
  }
 ],
 "metadata": {
  "kernelspec": {
   "display_name": "Python 3 (ipykernel)",
   "language": "python",
   "name": "python3"
  },
  "language_info": {
   "codemirror_mode": {
    "name": "ipython",
    "version": 3
   },
   "file_extension": ".py",
   "mimetype": "text/x-python",
   "name": "python",
   "nbconvert_exporter": "python",
   "pygments_lexer": "ipython3",
   "version": "3.11.4"
  }
 },
 "nbformat": 4,
 "nbformat_minor": 5
}
